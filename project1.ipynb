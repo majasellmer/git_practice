{
  "nbformat": 4,
  "nbformat_minor": 0,
  "metadata": {
    "colab": {
      "name": "project1.ipynb",
      "provenance": [],
      "authorship_tag": "ABX9TyMXXZLb/5HGmNZH2GSNvtb3",
      "include_colab_link": true
    },
    "kernelspec": {
      "name": "python3",
      "display_name": "Python 3"
    },
    "language_info": {
      "name": "python"
    }
  },
  "cells": [
    {
      "cell_type": "markdown",
      "metadata": {
        "id": "view-in-github",
        "colab_type": "text"
      },
      "source": [
        "<a href=\"https://colab.research.google.com/github/majasellmer/git_practice/blob/main/project1.ipynb\" target=\"_parent\"><img src=\"https://colab.research.google.com/assets/colab-badge.svg\" alt=\"Open In Colab\"/></a>"
      ]
    },
    {
      "cell_type": "code",
      "execution_count": 1,
      "metadata": {
        "id": "cFcGOFHiefI3",
        "colab": {
          "base_uri": "https://localhost:8080/"
        },
        "outputId": "c56c6f09-30f6-4a6b-c161-b9654b778ce7"
      },
      "outputs": [
        {
          "output_type": "stream",
          "name": "stdout",
          "text": [
            "Thu Apr 21 10:07:01 2022\n"
          ]
        }
      ],
      "source": [
        "import time\n",
        "print(time.ctime())"
      ]
    },
    {
      "cell_type": "markdown",
      "source": [
        "This is *italic*, **bold**\n",
        "\n"
      ],
      "metadata": {
        "id": "UYlgq9uLkjxz"
      }
    },
    {
      "cell_type": "markdown",
      "source": [
        "$\\sqrt{4}+e^{2i\\varphi}$"
      ],
      "metadata": {
        "id": "2tXRnGUvlF0k"
      }
    },
    {
      "cell_type": "code",
      "source": [
        "print(\"a\")"
      ],
      "metadata": {
        "colab": {
          "base_uri": "https://localhost:8080/"
        },
        "id": "sN7WAUEtmIFV",
        "outputId": "e7563954-5dfc-4051-e055-d10ffb75bbf6"
      },
      "execution_count": 2,
      "outputs": [
        {
          "output_type": "stream",
          "name": "stdout",
          "text": [
            "a\n"
          ]
        }
      ]
    }
  ]
}